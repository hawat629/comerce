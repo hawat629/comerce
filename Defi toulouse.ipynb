{
  "nbformat": 4,
  "nbformat_minor": 0,
  "metadata": {
    "colab": {
      "name": "Untitled5.ipynb",
      "provenance": [],
      "authorship_tag": "ABX9TyO5jHCMjQnRQmBfvtOlBOVr",
      "include_colab_link": true
    },
    "kernelspec": {
      "name": "python3",
      "display_name": "Python 3"
    }
  },
  "cells": [
    {
      "cell_type": "markdown",
      "metadata": {
        "id": "view-in-github",
        "colab_type": "text"
      },
      "source": [
        "<a href=\"https://colab.research.google.com/github/hawat629/comerce/blob/master/Defi%20toulouse.ipynb\" target=\"_parent\"><img src=\"https://colab.research.google.com/assets/colab-badge.svg\" alt=\"Open In Colab\"/></a>"
      ]
    },
    {
      "cell_type": "markdown",
      "metadata": {
        "id": "UN2KUkEpGnlD",
        "colab_type": "text"
      },
      "source": [
        "Cette approche est basée sur l'utilisation de réseaux de neurones auto-encodeurs. \n",
        "Il est basé sur des principes similaires à ceux de l'analyse statistique, mais avec quelques légères différences.\n",
        "\n",
        "Un autoencodeur est un type de réseau neuronal artificiel utilisé pour apprendre des codages de données efficaces sans surveillance. Le but d'un autoencodeur est d'apprendre une représentation (encodage) pour un ensemble de données, typiquement pour la réduction de dimensionnalité. Parallèlement au côté de réduction, un côté de reconstruction est appris, où l'autoencodeur essaie de générer à partir du codage réduit une représentation aussi proche que possible de son entrée d'origine.\n",
        "\n",
        "Sur le plan architectural, la forme la plus simple d'un autoencodeur est un réseau neuronal non récurrent à action directe très similaire aux nombreux perceptrons à couche unique qui fait un perceptron multicouche (MLP) - ayant une couche d'entrée, une couche de sortie et une ou plusieurs couches cachées les reliant - mais avec la couche de sortie ayant le même nombre de nœuds que la couche d'entrée, et dans le but de reconstruire ses propres entrées.\n",
        "en effet on assayer de travailler pas sur les données mes sur les transformés des fouriers des données car c'est le mieux pour des series temporaires ."
      ]
    },
    {
      "cell_type": "code",
      "metadata": {
        "id": "F5mAPx8IHb2I",
        "colab_type": "code",
        "colab": {}
      },
      "source": [
        "import numpy as np\n",
        "import pandas as pd\n",
        "import matplotlib.pyplot as plt"
      ],
      "execution_count": 0,
      "outputs": []
    },
    {
      "cell_type": "code",
      "metadata": {
        "id": "i-gvj-hdEXHD",
        "colab_type": "code",
        "outputId": "d187e8b9-e420-40a0-b344-fbbb7b97b880",
        "colab": {
          "base_uri": "https://localhost:8080/",
          "height": 35
        }
      },
      "source": [
        "from google.colab import drive\n",
        "drive.mount('/content/drive')\n",
        "path = \"/content/drive/My Drive/Classification/\""
      ],
      "execution_count": 0,
      "outputs": [
        {
          "output_type": "stream",
          "text": [
            "Drive already mounted at /content/drive; to attempt to forcibly remount, call drive.mount(\"/content/drive\", force_remount=True).\n"
          ],
          "name": "stdout"
        }
      ]
    },
    {
      "cell_type": "code",
      "metadata": {
        "id": "yVG5fbW1EXuD",
        "colab_type": "code",
        "colab": {}
      },
      "source": [
        "#!pip install h5py\n",
        "import h5py"
      ],
      "execution_count": 0,
      "outputs": []
    },
    {
      "cell_type": "markdown",
      "metadata": {
        "id": "g96B1_qcHfgq",
        "colab_type": "text"
      },
      "source": [
        "on apporte les data"
      ]
    },
    {
      "cell_type": "code",
      "metadata": {
        "id": "Buo4gV0MEX9W",
        "colab_type": "code",
        "colab": {}
      },
      "source": [
        "train = h5py.File(path + \"train.hdf5\", \"r+\")\n",
        "df_train = train[\"dftrain\"]\n",
        "X_train = np.asarray(df_train[\"block0_values\"])\n",
        "test = h5py.File(path + \"test.hdf5\", \"r+\")\n",
        "df_test = test[\"dffinal\"]\n",
        "X_test = np.asarray(df_test[\"block0_values\"])"
      ],
      "execution_count": 0,
      "outputs": []
    },
    {
      "cell_type": "markdown",
      "metadata": {
        "id": "vNiaxhBWH3dL",
        "colab_type": "text"
      },
      "source": [
        "on trouve les transformés des fouriers"
      ]
    },
    {
      "cell_type": "code",
      "metadata": {
        "id": "E3_FkK1VFYd-",
        "colab_type": "code",
        "colab": {}
      },
      "source": [
        "train_fft = np.fft.fft(X_train)\n",
        "test_fft = np.fft.fft(X_test)"
      ],
      "execution_count": 0,
      "outputs": []
    },
    {
      "cell_type": "markdown",
      "metadata": {
        "id": "p-6dyatnH-wF",
        "colab_type": "text"
      },
      "source": [
        "apporter les libraries d'autoencodeur"
      ]
    },
    {
      "cell_type": "code",
      "metadata": {
        "id": "2WIlDP0zGRkm",
        "colab_type": "code",
        "colab": {}
      },
      "source": [
        "from numpy.random import seed\n",
        "from tensorflow import set_random_seed\n",
        "\n",
        "from keras.layers import Input, Dropout\n",
        "from keras.layers.core import Dense \n",
        "from keras.models import Model, Sequential, load_model\n",
        "from keras import regularizers\n",
        "from keras.models import model_from_json"
      ],
      "execution_count": 0,
      "outputs": []
    },
    {
      "cell_type": "code",
      "metadata": {
        "id": "MTXa7E84EYSJ",
        "colab_type": "code",
        "outputId": "6d1ff5f4-c446-423d-f962-5abea04270cf",
        "colab": {
          "base_uri": "https://localhost:8080/",
          "height": 184
        }
      },
      "source": [
        "seed(10)\n",
        "set_random_seed(10)\n",
        "act_func = 'elu'\n",
        "\n",
        "# Input layer:\n",
        "model=Sequential()\n",
        "# First hidden layer, connected to input vector X. \n",
        "model.add(Dense(10,activation=act_func,\n",
        "                kernel_initializer='glorot_uniform',\n",
        "                kernel_regularizer=regularizers.l2(0.0),\n",
        "                input_shape=(X_train.shape[1],)\n",
        "               )\n",
        "         )\n",
        "\n",
        "model.add(Dense(2,activation=act_func,\n",
        "                kernel_initializer='glorot_uniform'))\n",
        "\n",
        "model.add(Dense(10,activation=act_func,\n",
        "                kernel_initializer='glorot_uniform'))\n",
        "\n",
        "model.add(Dense(X_train.shape[1],\n",
        "                kernel_initializer='glorot_uniform'))\n",
        "\n",
        "model.compile(loss='mse',optimizer='adam')\n",
        "\n",
        "# Train model for 100 epochs, batch size of 10: \n",
        "NUM_EPOCHS=100\n",
        "BATCH_SIZE=10"
      ],
      "execution_count": 0,
      "outputs": [
        {
          "output_type": "stream",
          "text": [
            "WARNING:tensorflow:From /usr/local/lib/python3.6/dist-packages/keras/backend/tensorflow_backend.py:66: The name tf.get_default_graph is deprecated. Please use tf.compat.v1.get_default_graph instead.\n",
            "\n",
            "WARNING:tensorflow:From /usr/local/lib/python3.6/dist-packages/keras/backend/tensorflow_backend.py:541: The name tf.placeholder is deprecated. Please use tf.compat.v1.placeholder instead.\n",
            "\n",
            "WARNING:tensorflow:From /usr/local/lib/python3.6/dist-packages/keras/backend/tensorflow_backend.py:4432: The name tf.random_uniform is deprecated. Please use tf.random.uniform instead.\n",
            "\n",
            "WARNING:tensorflow:From /usr/local/lib/python3.6/dist-packages/keras/optimizers.py:793: The name tf.train.Optimizer is deprecated. Please use tf.compat.v1.train.Optimizer instead.\n",
            "\n"
          ],
          "name": "stdout"
        }
      ]
    },
    {
      "cell_type": "code",
      "metadata": {
        "id": "Rtd00ozJEYaN",
        "colab_type": "code",
        "outputId": "d870005e-1473-4a7f-ebab-9528c7f1739d",
        "colab": {
          "base_uri": "https://localhost:8080/",
          "height": 1000
        }
      },
      "source": [
        "history=model.fit(np.array(train_fft),np.array(train_fft),\n",
        "                  batch_size=BATCH_SIZE, \n",
        "                  epochs=NUM_EPOCHS,\n",
        "                  validation_split=0.05,\n",
        "                  verbose = 1)"
      ],
      "execution_count": 0,
      "outputs": [
        {
          "output_type": "stream",
          "text": [
            "WARNING:tensorflow:From /usr/local/lib/python3.6/dist-packages/keras/backend/tensorflow_backend.py:1033: The name tf.assign_add is deprecated. Please use tf.compat.v1.assign_add instead.\n",
            "\n",
            "WARNING:tensorflow:From /usr/local/lib/python3.6/dist-packages/keras/backend/tensorflow_backend.py:1020: The name tf.assign is deprecated. Please use tf.compat.v1.assign instead.\n",
            "\n",
            "WARNING:tensorflow:From /usr/local/lib/python3.6/dist-packages/keras/backend/tensorflow_backend.py:3005: The name tf.Session is deprecated. Please use tf.compat.v1.Session instead.\n",
            "\n",
            "Train on 1593 samples, validate on 84 samples\n",
            "Epoch 1/100\n",
            "WARNING:tensorflow:From /usr/local/lib/python3.6/dist-packages/keras/backend/tensorflow_backend.py:190: The name tf.get_default_session is deprecated. Please use tf.compat.v1.get_default_session instead.\n",
            "\n",
            "WARNING:tensorflow:From /usr/local/lib/python3.6/dist-packages/keras/backend/tensorflow_backend.py:197: The name tf.ConfigProto is deprecated. Please use tf.compat.v1.ConfigProto instead.\n",
            "\n",
            "WARNING:tensorflow:From /usr/local/lib/python3.6/dist-packages/keras/backend/tensorflow_backend.py:207: The name tf.global_variables is deprecated. Please use tf.compat.v1.global_variables instead.\n",
            "\n",
            "WARNING:tensorflow:From /usr/local/lib/python3.6/dist-packages/keras/backend/tensorflow_backend.py:216: The name tf.is_variable_initialized is deprecated. Please use tf.compat.v1.is_variable_initialized instead.\n",
            "\n",
            "WARNING:tensorflow:From /usr/local/lib/python3.6/dist-packages/keras/backend/tensorflow_backend.py:223: The name tf.variables_initializer is deprecated. Please use tf.compat.v1.variables_initializer instead.\n",
            "\n"
          ],
          "name": "stdout"
        },
        {
          "output_type": "stream",
          "text": [
            "/usr/local/lib/python3.6/dist-packages/numpy/core/_asarray.py:85: ComplexWarning: Casting complex values to real discards the imaginary part\n",
            "  return array(a, dtype, copy=False, order=order)\n"
          ],
          "name": "stderr"
        },
        {
          "output_type": "stream",
          "text": [
            "1593/1593 [==============================] - 6s 4ms/step - loss: 27348.4846 - val_loss: 11239.1025\n",
            "Epoch 2/100\n",
            "1593/1593 [==============================] - 5s 3ms/step - loss: 27304.6924 - val_loss: 11236.3093\n",
            "Epoch 3/100\n",
            "1593/1593 [==============================] - 5s 3ms/step - loss: 27241.2017 - val_loss: 11240.1796\n",
            "Epoch 4/100\n",
            "1593/1593 [==============================] - 5s 3ms/step - loss: 27240.6297 - val_loss: 11232.4365\n",
            "Epoch 5/100\n",
            "1593/1593 [==============================] - 5s 3ms/step - loss: 27417.3670 - val_loss: 11234.7539\n",
            "Epoch 6/100\n",
            "1593/1593 [==============================] - 5s 3ms/step - loss: 27124.9895 - val_loss: 11242.1516\n",
            "Epoch 7/100\n",
            "1593/1593 [==============================] - 5s 3ms/step - loss: 27115.6801 - val_loss: 11238.6235\n",
            "Epoch 8/100\n",
            "1593/1593 [==============================] - 5s 3ms/step - loss: 26973.6492 - val_loss: 11248.7369\n",
            "Epoch 9/100\n",
            "1593/1593 [==============================] - 6s 3ms/step - loss: 26963.0302 - val_loss: 11280.9668\n",
            "Epoch 10/100\n",
            "1593/1593 [==============================] - 6s 3ms/step - loss: 27212.0400 - val_loss: 11247.5108\n",
            "Epoch 11/100\n",
            "1593/1593 [==============================] - 5s 3ms/step - loss: 27293.6236 - val_loss: 11243.9874\n",
            "Epoch 12/100\n",
            "1593/1593 [==============================] - 5s 3ms/step - loss: 27239.2051 - val_loss: 11242.7111\n",
            "Epoch 13/100\n",
            "1593/1593 [==============================] - 6s 4ms/step - loss: 27220.2907 - val_loss: 11240.1002\n",
            "Epoch 14/100\n",
            "1593/1593 [==============================] - 6s 3ms/step - loss: 27195.0317 - val_loss: 11237.7605\n",
            "Epoch 15/100\n",
            "1593/1593 [==============================] - 6s 3ms/step - loss: 27137.5224 - val_loss: 11240.5829\n",
            "Epoch 16/100\n",
            "1593/1593 [==============================] - 6s 3ms/step - loss: 27077.3020 - val_loss: 11242.9830\n",
            "Epoch 17/100\n",
            "1593/1593 [==============================] - 5s 3ms/step - loss: 26988.0351 - val_loss: 11244.7311\n",
            "Epoch 18/100\n",
            "1593/1593 [==============================] - 5s 3ms/step - loss: 26899.7798 - val_loss: 11253.5280\n",
            "Epoch 19/100\n",
            "1593/1593 [==============================] - 6s 4ms/step - loss: 26807.6817 - val_loss: 11256.2634\n",
            "Epoch 20/100\n",
            "1593/1593 [==============================] - 6s 4ms/step - loss: 26845.2400 - val_loss: 11258.1983\n",
            "Epoch 21/100\n",
            "1593/1593 [==============================] - 6s 4ms/step - loss: 26810.0699 - val_loss: 11243.0774\n",
            "Epoch 22/100\n",
            "1593/1593 [==============================] - 6s 4ms/step - loss: 26618.5699 - val_loss: 11261.0562\n",
            "Epoch 23/100\n",
            "1593/1593 [==============================] - 6s 4ms/step - loss: 26771.0678 - val_loss: 11235.6544\n",
            "Epoch 24/100\n",
            "1593/1593 [==============================] - 6s 4ms/step - loss: 26702.9059 - val_loss: 11239.4013\n",
            "Epoch 25/100\n",
            "1593/1593 [==============================] - 6s 4ms/step - loss: 26570.1855 - val_loss: 11253.3457\n",
            "Epoch 26/100\n",
            "1593/1593 [==============================] - 6s 4ms/step - loss: 26558.1198 - val_loss: 11248.6033\n",
            "Epoch 27/100\n",
            "1593/1593 [==============================] - 6s 3ms/step - loss: 26549.7949 - val_loss: 11244.5345\n",
            "Epoch 28/100\n",
            "1593/1593 [==============================] - 6s 4ms/step - loss: 26509.2631 - val_loss: 11247.2299\n",
            "Epoch 29/100\n",
            "1593/1593 [==============================] - 6s 4ms/step - loss: 26765.1226 - val_loss: 11250.0243\n",
            "Epoch 30/100\n",
            "1593/1593 [==============================] - 5s 3ms/step - loss: 26655.8242 - val_loss: 11246.9402\n",
            "Epoch 31/100\n",
            "1593/1593 [==============================] - 5s 3ms/step - loss: 26474.6804 - val_loss: 11242.4821\n",
            "Epoch 32/100\n",
            "1593/1593 [==============================] - 5s 3ms/step - loss: 26545.9267 - val_loss: 11242.2044\n",
            "Epoch 33/100\n",
            "1593/1593 [==============================] - 5s 3ms/step - loss: 26527.8532 - val_loss: 11244.6216\n",
            "Epoch 34/100\n",
            "1593/1593 [==============================] - 5s 3ms/step - loss: 26491.4354 - val_loss: 11338.7229\n",
            "Epoch 35/100\n",
            "1593/1593 [==============================] - 5s 3ms/step - loss: 26571.9668 - val_loss: 11332.6321\n",
            "Epoch 36/100\n",
            "1593/1593 [==============================] - 5s 3ms/step - loss: 26404.0937 - val_loss: 11351.4661\n",
            "Epoch 37/100\n",
            "1593/1593 [==============================] - 5s 3ms/step - loss: 26473.0576 - val_loss: 11336.5490\n",
            "Epoch 38/100\n",
            "1593/1593 [==============================] - 5s 3ms/step - loss: 26471.9245 - val_loss: 11340.1433\n",
            "Epoch 39/100\n",
            "1593/1593 [==============================] - 5s 3ms/step - loss: 26518.2281 - val_loss: 11315.8330\n",
            "Epoch 40/100\n",
            "1593/1593 [==============================] - 5s 3ms/step - loss: 26446.0118 - val_loss: 11320.4658\n",
            "Epoch 41/100\n",
            "1593/1593 [==============================] - 5s 3ms/step - loss: 26417.7199 - val_loss: 11296.1743\n",
            "Epoch 42/100\n",
            "1593/1593 [==============================] - 5s 3ms/step - loss: 26397.2030 - val_loss: 11306.1214\n",
            "Epoch 43/100\n",
            "1593/1593 [==============================] - 6s 3ms/step - loss: 26517.4077 - val_loss: 11352.8657\n",
            "Epoch 44/100\n",
            "1593/1593 [==============================] - 5s 3ms/step - loss: 26698.8076 - val_loss: 11290.6717\n",
            "Epoch 45/100\n",
            "1593/1593 [==============================] - 6s 3ms/step - loss: 26443.1715 - val_loss: 11306.2555\n",
            "Epoch 46/100\n",
            "1593/1593 [==============================] - 5s 3ms/step - loss: 26372.0096 - val_loss: 11283.6844\n",
            "Epoch 47/100\n",
            "1593/1593 [==============================] - 5s 3ms/step - loss: 26372.0051 - val_loss: 11296.6104\n",
            "Epoch 48/100\n",
            "1593/1593 [==============================] - 5s 3ms/step - loss: 26397.5612 - val_loss: 11331.8503\n",
            "Epoch 49/100\n",
            "1593/1593 [==============================] - 5s 3ms/step - loss: 26363.3828 - val_loss: 11317.2919\n",
            "Epoch 50/100\n",
            "1593/1593 [==============================] - 5s 3ms/step - loss: 26411.5806 - val_loss: 11327.4783\n",
            "Epoch 51/100\n",
            "1593/1593 [==============================] - 5s 3ms/step - loss: 26343.2440 - val_loss: 11314.8398\n",
            "Epoch 52/100\n",
            "1593/1593 [==============================] - 5s 3ms/step - loss: 26280.6132 - val_loss: 11303.1337\n",
            "Epoch 53/100\n",
            "1593/1593 [==============================] - 5s 3ms/step - loss: 26345.1916 - val_loss: 11295.4924\n",
            "Epoch 54/100\n",
            "1593/1593 [==============================] - 5s 3ms/step - loss: 26443.9815 - val_loss: 11286.9947\n",
            "Epoch 55/100\n",
            "1593/1593 [==============================] - 5s 3ms/step - loss: 26365.3926 - val_loss: 11305.5363\n",
            "Epoch 56/100\n",
            "1593/1593 [==============================] - 5s 3ms/step - loss: 26381.9493 - val_loss: 11276.5597\n",
            "Epoch 57/100\n",
            "1593/1593 [==============================] - 6s 3ms/step - loss: 26353.1094 - val_loss: 11295.5900\n",
            "Epoch 58/100\n",
            "1593/1593 [==============================] - 5s 3ms/step - loss: 26367.5867 - val_loss: 11299.6240\n",
            "Epoch 59/100\n",
            "1593/1593 [==============================] - 5s 3ms/step - loss: 26416.5286 - val_loss: 11237.1131\n",
            "Epoch 60/100\n",
            "1593/1593 [==============================] - 6s 3ms/step - loss: 26463.0195 - val_loss: 11236.9851\n",
            "Epoch 61/100\n",
            "1593/1593 [==============================] - 5s 3ms/step - loss: 26359.1785 - val_loss: 11236.5801\n",
            "Epoch 62/100\n",
            "1593/1593 [==============================] - 5s 3ms/step - loss: 26253.8458 - val_loss: 11236.4437\n",
            "Epoch 63/100\n",
            "1593/1593 [==============================] - 5s 3ms/step - loss: 26398.8322 - val_loss: 11236.6212\n",
            "Epoch 64/100\n",
            "1593/1593 [==============================] - 6s 3ms/step - loss: 26320.9826 - val_loss: 11237.4895\n",
            "Epoch 65/100\n",
            "1593/1593 [==============================] - 5s 3ms/step - loss: 26366.9297 - val_loss: 11237.2992\n",
            "Epoch 66/100\n",
            "1593/1593 [==============================] - 5s 3ms/step - loss: 26404.0025 - val_loss: 11240.8573\n",
            "Epoch 67/100\n",
            "1593/1593 [==============================] - 5s 3ms/step - loss: 26317.0340 - val_loss: 11245.0386\n",
            "Epoch 68/100\n",
            "1593/1593 [==============================] - 5s 3ms/step - loss: 26285.0749 - val_loss: 11240.6107\n",
            "Epoch 69/100\n",
            "1593/1593 [==============================] - 5s 3ms/step - loss: 26256.1995 - val_loss: 11240.9672\n",
            "Epoch 70/100\n",
            "1593/1593 [==============================] - 5s 3ms/step - loss: 26254.6352 - val_loss: 11241.0660\n",
            "Epoch 71/100\n",
            "1593/1593 [==============================] - 5s 3ms/step - loss: 26272.4356 - val_loss: 11244.1875\n",
            "Epoch 72/100\n",
            "1593/1593 [==============================] - 5s 3ms/step - loss: 26330.3995 - val_loss: 11249.0986\n",
            "Epoch 73/100\n",
            "1593/1593 [==============================] - 5s 3ms/step - loss: 26361.2931 - val_loss: 11241.7973\n",
            "Epoch 74/100\n",
            "1593/1593 [==============================] - 5s 3ms/step - loss: 26426.9124 - val_loss: 11240.0249\n",
            "Epoch 75/100\n",
            "1593/1593 [==============================] - 5s 3ms/step - loss: 26331.9093 - val_loss: 11240.8062\n",
            "Epoch 76/100\n",
            "1593/1593 [==============================] - 5s 3ms/step - loss: 26289.9629 - val_loss: 11238.6736\n",
            "Epoch 77/100\n",
            "1593/1593 [==============================] - 5s 3ms/step - loss: 26341.3995 - val_loss: 11239.8430\n",
            "Epoch 78/100\n",
            "1593/1593 [==============================] - 5s 3ms/step - loss: 26262.5398 - val_loss: 11237.2533\n",
            "Epoch 79/100\n",
            "1593/1593 [==============================] - 5s 3ms/step - loss: 26290.5714 - val_loss: 11238.3401\n",
            "Epoch 80/100\n",
            "1593/1593 [==============================] - 5s 3ms/step - loss: 26321.1004 - val_loss: 11237.3507\n",
            "Epoch 81/100\n",
            "1593/1593 [==============================] - 5s 3ms/step - loss: 26316.7711 - val_loss: 11237.4320\n",
            "Epoch 82/100\n",
            "1593/1593 [==============================] - 6s 3ms/step - loss: 26243.8640 - val_loss: 11237.4338\n",
            "Epoch 83/100\n",
            "1593/1593 [==============================] - 5s 3ms/step - loss: 26329.0003 - val_loss: 11237.2206\n",
            "Epoch 84/100\n",
            "1593/1593 [==============================] - 6s 3ms/step - loss: 26290.4425 - val_loss: 11237.3476\n",
            "Epoch 85/100\n",
            "1593/1593 [==============================] - 5s 3ms/step - loss: 26216.4941 - val_loss: 11237.4633\n",
            "Epoch 86/100\n",
            "1593/1593 [==============================] - 5s 3ms/step - loss: 26263.2900 - val_loss: 11237.5908\n",
            "Epoch 87/100\n",
            "1593/1593 [==============================] - 5s 3ms/step - loss: 26252.7357 - val_loss: 11237.0756\n",
            "Epoch 88/100\n",
            "1593/1593 [==============================] - 5s 3ms/step - loss: 26269.3112 - val_loss: 11237.2426\n",
            "Epoch 89/100\n",
            "1593/1593 [==============================] - 5s 3ms/step - loss: 26268.6686 - val_loss: 11236.7680\n",
            "Epoch 90/100\n",
            "1593/1593 [==============================] - 5s 3ms/step - loss: 26408.8269 - val_loss: 11237.1571\n",
            "Epoch 91/100\n",
            "1593/1593 [==============================] - 5s 3ms/step - loss: 26222.1402 - val_loss: 11236.7128\n",
            "Epoch 92/100\n",
            "1593/1593 [==============================] - 6s 4ms/step - loss: 26280.1566 - val_loss: 11237.0723\n",
            "Epoch 93/100\n",
            "1593/1593 [==============================] - 6s 3ms/step - loss: 26292.1781 - val_loss: 11237.2980\n",
            "Epoch 94/100\n",
            "1593/1593 [==============================] - 6s 4ms/step - loss: 26317.7786 - val_loss: 11237.0813\n",
            "Epoch 95/100\n",
            "1593/1593 [==============================] - 7s 5ms/step - loss: 26375.8483 - val_loss: 11236.8716\n",
            "Epoch 96/100\n",
            "1593/1593 [==============================] - 7s 4ms/step - loss: 26228.0465 - val_loss: 11236.6325\n",
            "Epoch 97/100\n",
            "1593/1593 [==============================] - 7s 4ms/step - loss: 26306.8668 - val_loss: 11238.0374\n",
            "Epoch 98/100\n",
            "1593/1593 [==============================] - 7s 4ms/step - loss: 26270.7642 - val_loss: 11237.9471\n",
            "Epoch 99/100\n",
            "1593/1593 [==============================] - 6s 4ms/step - loss: 26277.0051 - val_loss: 11240.6535\n",
            "Epoch 100/100\n",
            "1593/1593 [==============================] - 6s 4ms/step - loss: 26267.7266 - val_loss: 11240.2605\n"
          ],
          "name": "stdout"
        }
      ]
    },
    {
      "cell_type": "code",
      "metadata": {
        "id": "cuwlL15pLD6K",
        "colab_type": "code",
        "colab": {}
      },
      "source": [
        "import seaborn as sns\n",
        "sns.set(color_codes=True)"
      ],
      "execution_count": 0,
      "outputs": []
    },
    {
      "cell_type": "markdown",
      "metadata": {
        "id": "0-o6CsB1Ie_E",
        "colab_type": "text"
      },
      "source": [
        "on plot l'histograme pour savoir choisir un treshold convenable au donné."
      ]
    },
    {
      "cell_type": "code",
      "metadata": {
        "id": "4UARuqcwJsGD",
        "colab_type": "code",
        "outputId": "268c11cd-fea2-4ef7-8779-06506b102f17",
        "colab": {
          "base_uri": "https://localhost:8080/",
          "height": 449
        }
      },
      "source": [
        "X_pred = model.predict(train_fft)\n",
        "X_pred = pd.DataFrame(X_pred, \n",
        "                      columns=pd.DataFrame(train_fft).columns)\n",
        "X_pred.index = pd.DataFrame(train_fft).index\n",
        "\n",
        "scored = pd.DataFrame(index= pd.DataFrame(train_fft).index)\n",
        "scored['Loss_mae'] = np.mean(np.abs(X_pred-train_fft), axis = 1)\n",
        "plt.figure(figsize=(14,6))\n",
        "sns.distplot(scored['Loss_mae'],\n",
        "             bins = 150, \n",
        "             kde= True,\n",
        "            color = 'blue');\n",
        "plt.xlim([0.0,300])"
      ],
      "execution_count": 0,
      "outputs": [
        {
          "output_type": "stream",
          "text": [
            "/usr/local/lib/python3.6/dist-packages/numpy/core/_asarray.py:85: ComplexWarning: Casting complex values to real discards the imaginary part\n",
            "  return array(a, dtype, copy=False, order=order)\n"
          ],
          "name": "stderr"
        },
        {
          "output_type": "execute_result",
          "data": {
            "text/plain": [
              "(0.0, 300)"
            ]
          },
          "metadata": {
            "tags": []
          },
          "execution_count": 21
        },
        {
          "output_type": "display_data",
          "data": {
            "image/png": "[encoded data removed]",
            "text/plain": [
              "<Figure size 1008x432 with 1 Axes>"
            ]
          },
          "metadata": {
            "tags": []
          }
        }
      ]
    },
    {
      "cell_type": "code",
      "metadata": {
        "id": "eBG_SPQ_EYjb",
        "colab_type": "code",
        "outputId": "b7a784b0-adfd-4aba-acda-1d32e003b679",
        "colab": {
          "base_uri": "https://localhost:8080/",
          "height": 243
        }
      },
      "source": [
        "X_pred = model.predict(test_fft)\n",
        "X_pred = pd.DataFrame(X_pred, \n",
        "                      columns=pd.DataFrame(test_fft).columns)\n",
        "X_pred.index = pd.DataFrame(test_fft).index\n",
        "\n",
        "scored = pd.DataFrame(index=pd.DataFrame(test_fft).index)\n",
        "scored['Loss_mae'] = np.mean(np.abs(X_pred-pd.DataFrame(test_fft)), axis = 1)\n",
        "scored['Threshold'] = 200\n",
        "scored['Anomaly'] = scored['Loss_mae'] > scored['Threshold']\n",
        "scored.head()"
      ],
      "execution_count": 0,
      "outputs": [
        {
          "output_type": "stream",
          "text": [
            "/usr/local/lib/python3.6/dist-packages/numpy/core/_asarray.py:85: ComplexWarning: Casting complex values to real discards the imaginary part\n",
            "  return array(a, dtype, copy=False, order=order)\n"
          ],
          "name": "stderr"
        },
        {
          "output_type": "execute_result",
          "data": {
            "text/html": [
              "<div>\n",
              "<style scoped>\n",
              "    .dataframe tbody tr th:only-of-type {\n",
              "        vertical-align: middle;\n",
              "    }\n",
              "\n",
              "    .dataframe tbody tr th {\n",
              "        vertical-align: top;\n",
              "    }\n",
              "\n",
              "    .dataframe thead th {\n",
              "        text-align: right;\n",
              "    }\n",
              "</style>\n",
              "<table border=\"1\" class=\"dataframe\">\n",
              "  <thead>\n",
              "    <tr style=\"text-align: right;\">\n",
              "      <th></th>\n",
              "      <th>Loss_mae</th>\n",
              "      <th>Threshold</th>\n",
              "      <th>Anomaly</th>\n",
              "    </tr>\n",
              "  </thead>\n",
              "  <tbody>\n",
              "    <tr>\n",
              "      <th>0</th>\n",
              "      <td>7.872632</td>\n",
              "      <td>200</td>\n",
              "      <td>False</td>\n",
              "    </tr>\n",
              "    <tr>\n",
              "      <th>1</th>\n",
              "      <td>3.679184</td>\n",
              "      <td>200</td>\n",
              "      <td>False</td>\n",
              "    </tr>\n",
              "    <tr>\n",
              "      <th>2</th>\n",
              "      <td>139.499716</td>\n",
              "      <td>200</td>\n",
              "      <td>False</td>\n",
              "    </tr>\n",
              "    <tr>\n",
              "      <th>3</th>\n",
              "      <td>3.123840</td>\n",
              "      <td>200</td>\n",
              "      <td>False</td>\n",
              "    </tr>\n",
              "    <tr>\n",
              "      <th>4</th>\n",
              "      <td>6.470415</td>\n",
              "      <td>200</td>\n",
              "      <td>False</td>\n",
              "    </tr>\n",
              "  </tbody>\n",
              "</table>\n",
              "</div>"
            ],
            "text/plain": [
              "     Loss_mae  Threshold  Anomaly\n",
              "0    7.872632        200    False\n",
              "1    3.679184        200    False\n",
              "2  139.499716        200    False\n",
              "3    3.123840        200    False\n",
              "4    6.470415        200    False"
            ]
          },
          "metadata": {
            "tags": []
          },
          "execution_count": 22
        }
      ]
    },
    {
      "cell_type": "markdown",
      "metadata": {
        "id": "Vo2KspXTIwWb",
        "colab_type": "text"
      },
      "source": [
        "list des indices d'anomalies detectés\n"
      ]
    },
    {
      "cell_type": "code",
      "metadata": {
        "id": "EXrkntb3Mjaz",
        "colab_type": "code",
        "outputId": "a399e0c8-6e49-4221-832e-fe06acc91022",
        "colab": {
          "base_uri": "https://localhost:8080/",
          "height": 1000
        }
      },
      "source": [
        "#nombre d'anomalie detecter\n",
        "N = 0\n",
        "for i in range (1917):\n",
        "    if (scored['Loss_mae'][i] > 150): \n",
        "        N = N+1\n",
        "        print(i)\n",
        "N"
      ],
      "execution_count": 0,
      "outputs": [
        {
          "output_type": "stream",
          "text": [
            "9\n",
            "24\n",
            "37\n",
            "46\n",
            "49\n",
            "54\n",
            "70\n",
            "115\n",
            "159\n",
            "165\n",
            "167\n",
            "195\n",
            "198\n",
            "225\n",
            "227\n",
            "230\n",
            "256\n",
            "262\n",
            "268\n",
            "284\n",
            "301\n",
            "321\n",
            "322\n",
            "323\n",
            "330\n",
            "364\n",
            "366\n",
            "367\n",
            "376\n",
            "382\n",
            "395\n",
            "447\n",
            "453\n",
            "458\n",
            "493\n",
            "503\n",
            "511\n",
            "520\n",
            "549\n",
            "557\n",
            "576\n",
            "591\n",
            "595\n",
            "596\n",
            "630\n",
            "654\n",
            "668\n",
            "675\n",
            "691\n",
            "693\n",
            "696\n",
            "709\n",
            "730\n",
            "760\n",
            "764\n",
            "785\n",
            "813\n",
            "822\n",
            "840\n",
            "841\n",
            "854\n",
            "856\n",
            "863\n",
            "871\n",
            "883\n",
            "921\n",
            "931\n",
            "947\n",
            "974\n",
            "979\n",
            "1005\n",
            "1017\n",
            "1030\n",
            "1042\n",
            "1044\n",
            "1062\n",
            "1085\n",
            "1094\n",
            "1101\n",
            "1129\n",
            "1139\n",
            "1176\n",
            "1223\n",
            "1226\n",
            "1227\n",
            "1269\n",
            "1273\n",
            "1291\n",
            "1317\n",
            "1318\n",
            "1319\n",
            "1330\n",
            "1331\n",
            "1341\n",
            "1346\n",
            "1352\n",
            "1356\n",
            "1359\n",
            "1370\n",
            "1377\n",
            "1390\n",
            "1394\n",
            "1461\n",
            "1490\n",
            "1500\n",
            "1502\n",
            "1514\n",
            "1528\n",
            "1539\n",
            "1540\n",
            "1548\n",
            "1555\n",
            "1571\n",
            "1579\n",
            "1592\n",
            "1596\n",
            "1607\n",
            "1612\n",
            "1621\n",
            "1628\n",
            "1639\n",
            "1654\n",
            "1655\n",
            "1661\n",
            "1673\n",
            "1684\n",
            "1685\n",
            "1698\n",
            "1715\n",
            "1727\n",
            "1730\n",
            "1735\n",
            "1746\n",
            "1777\n",
            "1779\n",
            "1788\n",
            "1794\n",
            "1806\n",
            "1829\n",
            "1838\n",
            "1853\n",
            "1862\n",
            "1870\n",
            "1877\n",
            "1891\n",
            "1892\n",
            "1894\n",
            "1895\n",
            "1899\n"
          ],
          "name": "stdout"
        },
        {
          "output_type": "execute_result",
          "data": {
            "text/plain": [
              "149"
            ]
          },
          "metadata": {
            "tags": []
          },
          "execution_count": 25
        }
      ]
    },
    {
      "cell_type": "code",
      "metadata": {
        "id": "f81PDE83TF4t",
        "colab_type": "code",
        "colab": {}
      },
      "source": [
        ""
      ],
      "execution_count": 0,
      "outputs": []
    }
  ]
}