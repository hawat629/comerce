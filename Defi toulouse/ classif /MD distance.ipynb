{
  "nbformat": 4,
  "nbformat_minor": 0,
  "metadata": {
    "colab": {
      "name": "Defi.ipynb",
      "provenance": [],
      "authorship_tag": "ABX9TyOVcwsyW0T6L4axruDNpknU",
      "include_colab_link": true
    },
    "kernelspec": {
      "name": "python3",
      "display_name": "Python 3"
    }
  },
  "cells": [
    {
      "cell_type": "markdown",
      "metadata": {
        "id": "view-in-github",
        "colab_type": "text"
      },
      "source": [
        "<a href=\"https://colab.research.google.com/github/hawat629/comerce/blob/master/Defi%20toulouse/%20classif%20/MD%20distance.ipynb\" target=\"_parent\"><img src=\"https://colab.research.google.com/assets/colab-badge.svg\" alt=\"Open In Colab\"/></a>"
      ]
    },
    {
      "cell_type": "markdown",
      "metadata": {
        "id": "z9TCraQRKI5I",
        "colab_type": "text"
      },
      "source": [
        "Considérons le problème d'estimation de la probabilité qu'un point de données appartient à une distribution.\n",
        "Notre première étape serait de trouver le centroïde ou le centre de masse des points d'échantillonnage. \n",
        "Intuitivement, plus le point en question est proche de ce centre de masse, plus il est susceptible d'appartenir à \n",
        "l'ensemble. Cependant, nous devons également savoir si l'ensemble est réparti sur une large plage ou une petite plage, \n",
        "afin de pouvoir décider si une distance donnée du centre est notable ou non. \n",
        "L'approche simpliste consiste à estimer l'écart type des distances des points d'échantillonnage par rapport au \n",
        "centre de masse. En le branchant dans la distribution normale, nous pouvons déduire la probabilité que \n",
        "le point de données appartienne à la même distribution.\n",
        "on s'attendrait à ce que la probabilité que le point d'essai appartenant à l'ensemble dépende non seulement de la distance du centre de masse, mais également de la direction. Dans les directions où l'ellipsoïde a un axe court, le point de test doit être plus proche, tandis que dans celles où l'axe est long, le point de test peut être plus éloigné du centre.\n",
        "Sur le plan mathématique, l'ellipsoïde qui représente le mieux la distribution de probabilité de l'ensemble peut être estimé en calculant la matrice de covariance des échantillons. La distance de Mahalanobis (MD) est la distance du point d'essai du centre de masse divisée par la largeur de l'ellipsoïde dans la direction du point d'essai.\n",
        "\n",
        "Afin d'utiliser le MD pour classer un point de test comme appartenant à l'une des N classes, on estime d'abord la matrice de covariance de chaque classe, généralement basée sur des échantillons connus pour appartenir à chaque classe. Dans notre cas, comme nous ne souhaitons classer que «normal» vs «anomalie», nous utilisons des données d'entraînement qui ne contiennent que des conditions de fonctionnement normales pour calculer la matrice de covariance. Puis, étant donné un échantillon de test, nous calculons le MD à la classe «normale», et classons le point de test comme une «anomalie» si la distance est supérieure à un certain seuil.\n",
        "\n",
        "\n"
      ]
    },
    {
      "cell_type": "code",
      "metadata": {
        "id": "vmo_Wt7SKK9-",
        "colab_type": "code",
        "colab": {}
      },
      "source": [
        "import os\n",
        "import pandas as pd\n",
        "import numpy as np\n",
        "from sklearn import preprocessing\n",
        "import seaborn as sns\n",
        "sns.set(color_codes=True)\n",
        "import matplotlib.pyplot as plt\n",
        "%matplotlib inline"
      ],
      "execution_count": 0,
      "outputs": []
    },
    {
      "cell_type": "code",
      "metadata": {
        "id": "gjq_9hhtKLGk",
        "colab_type": "code",
        "outputId": "4badf865-fc85-4db5-9b57-15ec6679eff1",
        "colab": {
          "base_uri": "https://localhost:8080/",
          "height": 129
        }
      },
      "source": [
        "from google.colab import drive\n",
        "drive.mount('/content/drive')\n",
        "path = \"/content/drive/My Drive/Classification/\""
      ],
      "execution_count": 0,
      "outputs": [
        {
          "output_type": "stream",
          "text": [
            "Go to this URL in a browser: https://accounts.google.com/o/oauth2/auth?client_id=947318989803-6bn6qk8qdgf4n4g3pfee6491hc0brc4i.apps.googleusercontent.com&redirect_uri=urn%3aietf%3awg%3aoauth%3a2.0%3aoob&response_type=code&scope=email%20https%3a%2f%2fwww.googleapis.com%2fauth%2fdocs.test%20https%3a%2f%2fwww.googleapis.com%2fauth%2fdrive%20https%3a%2f%2fwww.googleapis.com%2fauth%2fdrive.photos.readonly%20https%3a%2f%2fwww.googleapis.com%2fauth%2fpeopleapi.readonly\n",
            "\n",
            "Enter your authorization code:\n",
            "··········\n",
            "Mounted at /content/drive\n"
          ],
          "name": "stdout"
        }
      ]
    },
    {
      "cell_type": "code",
      "metadata": {
        "id": "znjEFZMDKLMX",
        "colab_type": "code",
        "colab": {}
      },
      "source": [
        "#!pip install h5py\n",
        "import h5py"
      ],
      "execution_count": 0,
      "outputs": []
    },
    {
      "cell_type": "code",
      "metadata": {
        "id": "6pF7bGvEKLnc",
        "colab_type": "code",
        "colab": {}
      },
      "source": [
        "train = h5py.File(path + \"train.hdf5\", \"r+\")\n",
        "df_train = train[\"dftrain\"]\n",
        "X_train = np.asarray(df_train[\"block0_values\"])\n",
        "test = h5py.File(path + \"test.hdf5\", \"r+\")\n",
        "df_test = test[\"dffinal\"]\n",
        "X_test = np.asarray(df_test[\"block0_values\"])"
      ],
      "execution_count": 0,
      "outputs": []
    },
    {
      "cell_type": "code",
      "metadata": {
        "id": "-61IPTnbKLrB",
        "colab_type": "code",
        "colab": {}
      },
      "source": [
        "\n",
        "#reduction de la dimension\n",
        "from sklearn.decomposition import PCA\n",
        "pca = PCA(n_components=10, svd_solver= 'full')\n",
        "X_train_PCA = pca.fit_transform(X_train)\n",
        "X_train_PCA = pd.DataFrame(X_train_PCA)\n",
        "X_test_PCA = pca.transform(X_test)\n",
        "X_test_PCA = pd.DataFrame(X_test_PCA)\n",
        "# on a choisir de reduire à 10 variable après qu'on a ploter la courbe PCA et on decider le nombre de variable qui maximise le nombre d'anomalie detecter\n"
      ],
      "execution_count": 0,
      "outputs": []
    },
    {
      "cell_type": "code",
      "metadata": {
        "id": "KQTzNpUSKLl3",
        "colab_type": "code",
        "colab": {}
      },
      "source": [
        "def cov_matrix(data, verbose=False):\n",
        "    covariance_matrix = np.cov(data, rowvar=False)\n",
        "    if is_pos_def(covariance_matrix):\n",
        "        inv_covariance_matrix = np.linalg.inv(covariance_matrix)\n",
        "        if is_pos_def(inv_covariance_matrix):\n",
        "            return covariance_matrix, inv_covariance_matrix\n",
        "        else:\n",
        "            print(\"Error: Inverse of Covariance Matrix is not positive definite!\")\n",
        "    else:\n",
        "        print(\"Error: Covariance Matrix is not positive definite!\")"
      ],
      "execution_count": 0,
      "outputs": []
    },
    {
      "cell_type": "code",
      "metadata": {
        "id": "vdbdgneNKLio",
        "colab_type": "code",
        "colab": {}
      },
      "source": [
        "# calcule de la Mahanolibis distance\n",
        "def MahalanobisDist(inv_cov_matrix, mean_distr, data, verbose=False):\n",
        "    inv_covariance_matrix = inv_cov_matrix\n",
        "    vars_mean = mean_distr\n",
        "    diff = data - vars_mean\n",
        "    md = []\n",
        "    for i in range(len(diff)):\n",
        "        md.append(np.sqrt(diff[i].dot(inv_covariance_matrix).dot(diff[i])))\n",
        "    return md"
      ],
      "execution_count": 0,
      "outputs": []
    },
    {
      "cell_type": "code",
      "metadata": {
        "id": "zIdG2Fs8KLg6",
        "colab_type": "code",
        "colab": {}
      },
      "source": [
        "#calcule du threshold\n",
        "def MD_threshold(dist, extreme=False, verbose=False):\n",
        "    k = 3. if extreme else 2.\n",
        "    threshold = np.mean(dist) * k\n",
        "    return threshold"
      ],
      "execution_count": 0,
      "outputs": []
    },
    {
      "cell_type": "code",
      "metadata": {
        "id": "Gep_URuaKLf6",
        "colab_type": "code",
        "colab": {}
      },
      "source": [
        "#detection d'anomalie\n",
        "def MD_detectOutliers(dist,threshold, extreme=False, verbose=False):\n",
        "    k = 3. if extreme else 2.\n",
        "    outliers = []\n",
        "    for i in range(len(dist)):\n",
        "        if dist[i] >= threshold:\n",
        "            outliers.append(i)  # index of the outlier\n",
        "    return np.array(outliers)"
      ],
      "execution_count": 0,
      "outputs": []
    },
    {
      "cell_type": "code",
      "metadata": {
        "id": "HvGtHnVeKLeF",
        "colab_type": "code",
        "colab": {}
      },
      "source": [
        "#detection d'anomalie\n",
        "def MD_detectOutliers(dist,threshold, extreme=False, verbose=False):\n",
        "    k = 3. if extreme else 2.\n",
        "    outliers = []\n",
        "    for i in range(len(dist)):\n",
        "        if dist[i] >= threshold:\n",
        "            outliers.append(i)  # index of the outlier\n",
        "    return np.array(outliers)"
      ],
      "execution_count": 0,
      "outputs": []
    },
    {
      "cell_type": "code",
      "metadata": {
        "id": "IrSzdsAAKLZh",
        "colab_type": "code",
        "colab": {}
      },
      "source": [
        "#s'assurer que la matrice est inversible avant l'inverser\n",
        "def is_pos_def(A):\n",
        "    if np.allclose(A, A.T):\n",
        "        try:\n",
        "            np.linalg.cholesky(A)\n",
        "            return 1\n",
        "        except np.linalg.LinAlgError:\n",
        "            return 0\n",
        "    else:\n",
        "        return 0"
      ],
      "execution_count": 0,
      "outputs": []
    },
    {
      "cell_type": "code",
      "metadata": {
        "id": "kRIrfIMYKLX4",
        "colab_type": "code",
        "colab": {}
      },
      "source": [
        "data_train = np.array(X_train_PCA.values)\n",
        "data_test = np.array(X_test_PCA.values)\n",
        "cov_matrix, inv_cov_matrix  = cov_matrix(data_train)\n"
      ],
      "execution_count": 0,
      "outputs": []
    },
    {
      "cell_type": "code",
      "metadata": {
        "id": "4twVIfajMvMw",
        "colab_type": "code",
        "colab": {}
      },
      "source": [
        "mean_distr = data_train.mean(axis=0)"
      ],
      "execution_count": 0,
      "outputs": []
    },
    {
      "cell_type": "code",
      "metadata": {
        "id": "IBznsdFlKLWF",
        "colab_type": "code",
        "colab": {}
      },
      "source": [
        "dist_test = MahalanobisDist(inv_cov_matrix, mean_distr, data_test, verbose=False)\n",
        "dist_train = MahalanobisDist(inv_cov_matrix, mean_distr, data_train, verbose=False)\n",
        "threshold = MD_threshold(dist_train, extreme = True)\n"
      ],
      "execution_count": 0,
      "outputs": []
    },
    {
      "cell_type": "code",
      "metadata": {
        "id": "x2tyFaN1KLUe",
        "colab_type": "code",
        "outputId": "88d11324-1eaf-4df3-915a-26f4fbff6fdd",
        "colab": {
          "base_uri": "https://localhost:8080/",
          "height": 303
        }
      },
      "source": [
        "plt.figure()\n",
        "sns.distplot(dist_train,\n",
        "             bins = 10, \n",
        "             kde= True, \n",
        "            color = 'green');\n",
        "plt.xlim([0.0,50])\n",
        "plt.xlabel('Mahalanobis dist')"
      ],
      "execution_count": 0,
      "outputs": [
        {
          "output_type": "execute_result",
          "data": {
            "text/plain": [
              "Text(0.5, 0, 'Mahalanobis dist')"
            ]
          },
          "metadata": {
            "tags": []
          },
          "execution_count": 18
        },
        {
          "output_type": "display_data",
          "data": {
            "image/png": "[encoded data removed]",
            "text/plain": [
              "<Figure size 432x288 with 1 Axes>"
            ]
          },
          "metadata": {
            "tags": []
          }
        }
      ]
    },
    {
      "cell_type": "code",
      "metadata": {
        "id": "pKFSkpwtKLSu",
        "colab_type": "code",
        "outputId": "9abfc59b-174d-42cc-b0e1-9add5f737a31",
        "colab": {
          "base_uri": "https://localhost:8080/",
          "height": 286
        }
      },
      "source": [
        "plt.figure()\n",
        "sns.distplot(np.square(dist_train),\n",
        "             bins = 10, \n",
        "             kde= False);\n",
        "plt.xlim([0.0,1000])"
      ],
      "execution_count": 0,
      "outputs": [
        {
          "output_type": "execute_result",
          "data": {
            "text/plain": [
              "(0.0, 1000)"
            ]
          },
          "metadata": {
            "tags": []
          },
          "execution_count": 19
        },
        {
          "output_type": "display_data",
          "data": {
            "image/png": "[encoded data removed]",
            "text/plain": [
              "<Figure size 432x288 with 1 Axes>"
            ]
          },
          "metadata": {
            "tags": []
          }
        }
      ]
    },
    {
      "cell_type": "code",
      "metadata": {
        "id": "qZ4bLIMfKLRO",
        "colab_type": "code",
        "colab": {}
      },
      "source": [
        "#tester l'algo sur train pour s'assurer qu'il marche\n",
        "anomaly_train = pd.DataFrame()\n",
        "anomaly_train['Mob dist']= dist_train\n",
        "anomaly_train['Thresh'] = threshold\n",
        "anomaly_train['Anomaly'] = anomaly_train['Mob dist'] > anomaly_train['Thresh']\n",
        "anomaly_train"
      ],
      "execution_count": 0,
      "outputs": []
    },
    {
      "cell_type": "code",
      "metadata": {
        "id": "thV75kjYKLPX",
        "colab_type": "code",
        "outputId": "7049c452-32fa-4e18-a6bc-8624e87e3b4e",
        "colab": {
          "base_uri": "https://localhost:8080/",
          "height": 424
        }
      },
      "source": [
        "anomaly = pd.DataFrame()\n",
        "anomaly['Mob dist']= dist_test\n",
        "anomaly['Thresh'] = threshold\n",
        "anomaly['Anomaly'] = (anomaly['Mob dist'] > anomaly['Thresh'])*1\n",
        "anomaly"
      ],
      "execution_count": 0,
      "outputs": [
        {
          "output_type": "execute_result",
          "data": {
            "text/html": [
              "<div>\n",
              "<style scoped>\n",
              "    .dataframe tbody tr th:only-of-type {\n",
              "        vertical-align: middle;\n",
              "    }\n",
              "\n",
              "    .dataframe tbody tr th {\n",
              "        vertical-align: top;\n",
              "    }\n",
              "\n",
              "    .dataframe thead th {\n",
              "        text-align: right;\n",
              "    }\n",
              "</style>\n",
              "<table border=\"1\" class=\"dataframe\">\n",
              "  <thead>\n",
              "    <tr style=\"text-align: right;\">\n",
              "      <th></th>\n",
              "      <th>Mob dist</th>\n",
              "      <th>Thresh</th>\n",
              "      <th>Anomaly</th>\n",
              "    </tr>\n",
              "  </thead>\n",
              "  <tbody>\n",
              "    <tr>\n",
              "      <th>0</th>\n",
              "      <td>0.336049</td>\n",
              "      <td>2.814542</td>\n",
              "      <td>0</td>\n",
              "    </tr>\n",
              "    <tr>\n",
              "      <th>1</th>\n",
              "      <td>0.423170</td>\n",
              "      <td>2.814542</td>\n",
              "      <td>0</td>\n",
              "    </tr>\n",
              "    <tr>\n",
              "      <th>2</th>\n",
              "      <td>0.368784</td>\n",
              "      <td>2.814542</td>\n",
              "      <td>0</td>\n",
              "    </tr>\n",
              "    <tr>\n",
              "      <th>3</th>\n",
              "      <td>0.232924</td>\n",
              "      <td>2.814542</td>\n",
              "      <td>0</td>\n",
              "    </tr>\n",
              "    <tr>\n",
              "      <th>4</th>\n",
              "      <td>0.201772</td>\n",
              "      <td>2.814542</td>\n",
              "      <td>0</td>\n",
              "    </tr>\n",
              "    <tr>\n",
              "      <th>...</th>\n",
              "      <td>...</td>\n",
              "      <td>...</td>\n",
              "      <td>...</td>\n",
              "    </tr>\n",
              "    <tr>\n",
              "      <th>1912</th>\n",
              "      <td>0.133156</td>\n",
              "      <td>2.814542</td>\n",
              "      <td>0</td>\n",
              "    </tr>\n",
              "    <tr>\n",
              "      <th>1913</th>\n",
              "      <td>0.588540</td>\n",
              "      <td>2.814542</td>\n",
              "      <td>0</td>\n",
              "    </tr>\n",
              "    <tr>\n",
              "      <th>1914</th>\n",
              "      <td>0.144457</td>\n",
              "      <td>2.814542</td>\n",
              "      <td>0</td>\n",
              "    </tr>\n",
              "    <tr>\n",
              "      <th>1915</th>\n",
              "      <td>0.330719</td>\n",
              "      <td>2.814542</td>\n",
              "      <td>0</td>\n",
              "    </tr>\n",
              "    <tr>\n",
              "      <th>1916</th>\n",
              "      <td>0.096120</td>\n",
              "      <td>2.814542</td>\n",
              "      <td>0</td>\n",
              "    </tr>\n",
              "  </tbody>\n",
              "</table>\n",
              "<p>1917 rows × 3 columns</p>\n",
              "</div>"
            ],
            "text/plain": [
              "      Mob dist    Thresh  Anomaly\n",
              "0     0.336049  2.814542        0\n",
              "1     0.423170  2.814542        0\n",
              "2     0.368784  2.814542        0\n",
              "3     0.232924  2.814542        0\n",
              "4     0.201772  2.814542        0\n",
              "...        ...       ...      ...\n",
              "1912  0.133156  2.814542        0\n",
              "1913  0.588540  2.814542        0\n",
              "1914  0.144457  2.814542        0\n",
              "1915  0.330719  2.814542        0\n",
              "1916  0.096120  2.814542        0\n",
              "\n",
              "[1917 rows x 3 columns]"
            ]
          },
          "metadata": {
            "tags": []
          },
          "execution_count": 20
        }
      ]
    },
    {
      "cell_type": "code",
      "metadata": {
        "id": "rhwYZn9aKLKg",
        "colab_type": "code",
        "outputId": "609ca7d2-b7f4-4c9e-9c8e-8aeea4b67aba",
        "colab": {
          "base_uri": "https://localhost:8080/",
          "height": 1000
        }
      },
      "source": [
        "#nombre d'anomalie detecter\n",
        "N = 0\n",
        "for i in range (1917):\n",
        "    if (dist_test[i] > threshold): \n",
        "        N = N+1\n",
        "        print(i)\n",
        "print(N)"
      ],
      "execution_count": 0,
      "outputs": [
        {
          "output_type": "stream",
          "text": [
            "24\n",
            "37\n",
            "54\n",
            "70\n",
            "94\n",
            "156\n",
            "198\n",
            "225\n",
            "256\n",
            "268\n",
            "321\n",
            "323\n",
            "358\n",
            "364\n",
            "366\n",
            "367\n",
            "376\n",
            "458\n",
            "493\n",
            "520\n",
            "549\n",
            "557\n",
            "576\n",
            "595\n",
            "596\n",
            "654\n",
            "675\n",
            "691\n",
            "693\n",
            "696\n",
            "730\n",
            "785\n",
            "813\n",
            "822\n",
            "840\n",
            "841\n",
            "854\n",
            "863\n",
            "871\n",
            "883\n",
            "921\n",
            "931\n",
            "979\n",
            "1005\n",
            "1017\n",
            "1044\n",
            "1062\n",
            "1085\n",
            "1098\n",
            "1101\n",
            "1111\n",
            "1129\n",
            "1138\n",
            "1139\n",
            "1200\n",
            "1223\n",
            "1226\n",
            "1227\n",
            "1269\n",
            "1319\n",
            "1341\n",
            "1346\n",
            "1352\n",
            "1356\n",
            "1363\n",
            "1370\n",
            "1377\n",
            "1390\n",
            "1403\n",
            "1448\n",
            "1502\n",
            "1540\n",
            "1559\n",
            "1571\n",
            "1579\n",
            "1596\n",
            "1607\n",
            "1621\n",
            "1639\n",
            "1661\n",
            "1685\n",
            "1715\n",
            "1735\n",
            "1777\n",
            "1788\n",
            "1794\n",
            "1829\n",
            "1838\n",
            "1895\n",
            "89\n"
          ],
          "name": "stdout"
        }
      ]
    },
    {
      "cell_type": "code",
      "metadata": {
        "id": "9YvxURQZM9nO",
        "colab_type": "code",
        "colab": {}
      },
      "source": [
        ""
      ],
      "execution_count": 0,
      "outputs": []
    }
  ]
}